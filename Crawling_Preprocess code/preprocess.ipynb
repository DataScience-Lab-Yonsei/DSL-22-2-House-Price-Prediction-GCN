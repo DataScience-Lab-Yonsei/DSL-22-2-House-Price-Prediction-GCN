{
 "cells": [
  {
   "cell_type": "code",
   "execution_count": 1,
   "id": "51417e37",
   "metadata": {},
   "outputs": [],
   "source": [
    "import pandas as pd\n",
    "import numpy as np\n",
    "import matplotlib.pyplot as plt"
   ]
  },
  {
   "cell_type": "code",
   "execution_count": 2,
   "id": "fd15a91f",
   "metadata": {},
   "outputs": [
    {
     "data": {
      "text/html": [
       "<div>\n",
       "<style scoped>\n",
       "    .dataframe tbody tr th:only-of-type {\n",
       "        vertical-align: middle;\n",
       "    }\n",
       "\n",
       "    .dataframe tbody tr th {\n",
       "        vertical-align: top;\n",
       "    }\n",
       "\n",
       "    .dataframe thead th {\n",
       "        text-align: right;\n",
       "    }\n",
       "</style>\n",
       "<table border=\"1\" class=\"dataframe\">\n",
       "  <thead>\n",
       "    <tr style=\"text-align: right;\">\n",
       "      <th></th>\n",
       "      <th>Unnamed: 0</th>\n",
       "      <th>atclNo</th>\n",
       "      <th>cortarNo</th>\n",
       "      <th>lat</th>\n",
       "      <th>lng</th>\n",
       "      <th>atclNm</th>\n",
       "      <th>atclStatCd</th>\n",
       "      <th>rletTpNm</th>\n",
       "      <th>rletTpCd</th>\n",
       "      <th>tradTpNm</th>\n",
       "      <th>...</th>\n",
       "      <th>flrInfo</th>\n",
       "      <th>prc</th>\n",
       "      <th>rentPrc</th>\n",
       "      <th>spc1</th>\n",
       "      <th>spc2</th>\n",
       "      <th>direction</th>\n",
       "      <th>atclFetrDesc</th>\n",
       "      <th>tagList</th>\n",
       "      <th>repImgUrl</th>\n",
       "      <th>repImgThumb</th>\n",
       "    </tr>\n",
       "  </thead>\n",
       "  <tbody>\n",
       "    <tr>\n",
       "      <th>0</th>\n",
       "      <td>0</td>\n",
       "      <td>2233917636</td>\n",
       "      <td>1168010600</td>\n",
       "      <td>37.498822</td>\n",
       "      <td>127.055722</td>\n",
       "      <td>일반원룸</td>\n",
       "      <td>R0</td>\n",
       "      <td>원룸</td>\n",
       "      <td>C01</td>\n",
       "      <td>월세</td>\n",
       "      <td>...</td>\n",
       "      <td>2/3</td>\n",
       "      <td>2000</td>\n",
       "      <td>60</td>\n",
       "      <td>35</td>\n",
       "      <td>30</td>\n",
       "      <td>남향</td>\n",
       "      <td>보안좋고쾌적한 분리형풀옵션 학원가 좋은집 조용하고 가격대비최상급 강력추천</td>\n",
       "      <td>['25년이상', '융자금없는', '역세권']</td>\n",
       "      <td>/20220930_140/land_naver_1664537403631mzV76_JP...</td>\n",
       "      <td>f130_98</td>\n",
       "    </tr>\n",
       "  </tbody>\n",
       "</table>\n",
       "<p>1 rows × 21 columns</p>\n",
       "</div>"
      ],
      "text/plain": [
       "   Unnamed: 0      atclNo    cortarNo        lat         lng atclNm  \\\n",
       "0           0  2233917636  1168010600  37.498822  127.055722   일반원룸   \n",
       "\n",
       "  atclStatCd rletTpNm rletTpCd tradTpNm  ... flrInfo   prc  rentPrc  spc1  \\\n",
       "0         R0       원룸      C01       월세  ...     2/3  2000       60    35   \n",
       "\n",
       "   spc2  direction                              atclFetrDesc  \\\n",
       "0    30         남향  보안좋고쾌적한 분리형풀옵션 학원가 좋은집 조용하고 가격대비최상급 강력추천   \n",
       "\n",
       "                     tagList  \\\n",
       "0  ['25년이상', '융자금없는', '역세권']   \n",
       "\n",
       "                                           repImgUrl repImgThumb  \n",
       "0  /20220930_140/land_naver_1664537403631mzV76_JP...     f130_98  \n",
       "\n",
       "[1 rows x 21 columns]"
      ]
     },
     "execution_count": 2,
     "metadata": {},
     "output_type": "execute_result"
    }
   ],
   "source": [
    "data = pd.read_csv('...')\n",
    "data.head(1)"
   ]
  },
  {
   "cell_type": "code",
   "execution_count": 3,
   "id": "47faaf79",
   "metadata": {
    "scrolled": true
   },
   "outputs": [
    {
     "data": {
      "text/plain": [
       "Index(['Unnamed: 0', 'atclNo', 'cortarNo', 'lat', 'lng', 'atclNm',\n",
       "       'atclStatCd', 'rletTpNm', 'rletTpCd', 'tradTpNm', 'tradTpCd', 'flrInfo',\n",
       "       'prc', 'rentPrc', 'spc1', 'spc2', 'direction', 'atclFetrDesc',\n",
       "       'tagList', 'repImgUrl', 'repImgThumb'],\n",
       "      dtype='object')"
      ]
     },
     "execution_count": 3,
     "metadata": {},
     "output_type": "execute_result"
    }
   ],
   "source": [
    "data.columns"
   ]
  },
  {
   "cell_type": "markdown",
   "id": "5f076b2d",
   "metadata": {},
   "source": [
    "# 1. 필요없는 열 제거"
   ]
  },
  {
   "cell_type": "code",
   "execution_count": 4,
   "id": "78291bbf",
   "metadata": {},
   "outputs": [
    {
     "data": {
      "text/html": [
       "<div>\n",
       "<style scoped>\n",
       "    .dataframe tbody tr th:only-of-type {\n",
       "        vertical-align: middle;\n",
       "    }\n",
       "\n",
       "    .dataframe tbody tr th {\n",
       "        vertical-align: top;\n",
       "    }\n",
       "\n",
       "    .dataframe thead th {\n",
       "        text-align: right;\n",
       "    }\n",
       "</style>\n",
       "<table border=\"1\" class=\"dataframe\">\n",
       "  <thead>\n",
       "    <tr style=\"text-align: right;\">\n",
       "      <th></th>\n",
       "      <th>Unnamed: 0</th>\n",
       "      <th>atclNo</th>\n",
       "      <th>cortarNo</th>\n",
       "      <th>lat</th>\n",
       "      <th>lng</th>\n",
       "      <th>atclNm</th>\n",
       "      <th>atclStatCd</th>\n",
       "      <th>rletTpNm</th>\n",
       "      <th>rletTpCd</th>\n",
       "      <th>tradTpNm</th>\n",
       "      <th>...</th>\n",
       "      <th>flrInfo</th>\n",
       "      <th>prc</th>\n",
       "      <th>rentPrc</th>\n",
       "      <th>spc1</th>\n",
       "      <th>spc2</th>\n",
       "      <th>direction</th>\n",
       "      <th>atclFetrDesc</th>\n",
       "      <th>tagList</th>\n",
       "      <th>repImgUrl</th>\n",
       "      <th>repImgThumb</th>\n",
       "    </tr>\n",
       "  </thead>\n",
       "  <tbody>\n",
       "    <tr>\n",
       "      <th>0</th>\n",
       "      <td>0</td>\n",
       "      <td>2233917636</td>\n",
       "      <td>1168010600</td>\n",
       "      <td>37.498822</td>\n",
       "      <td>127.055722</td>\n",
       "      <td>일반원룸</td>\n",
       "      <td>R0</td>\n",
       "      <td>원룸</td>\n",
       "      <td>C01</td>\n",
       "      <td>월세</td>\n",
       "      <td>...</td>\n",
       "      <td>2/3</td>\n",
       "      <td>2000</td>\n",
       "      <td>60</td>\n",
       "      <td>35</td>\n",
       "      <td>30</td>\n",
       "      <td>남향</td>\n",
       "      <td>보안좋고쾌적한 분리형풀옵션 학원가 좋은집 조용하고 가격대비최상급 강력추천</td>\n",
       "      <td>['25년이상', '융자금없는', '역세권']</td>\n",
       "      <td>/20220930_140/land_naver_1664537403631mzV76_JP...</td>\n",
       "      <td>f130_98</td>\n",
       "    </tr>\n",
       "  </tbody>\n",
       "</table>\n",
       "<p>1 rows × 21 columns</p>\n",
       "</div>"
      ],
      "text/plain": [
       "   Unnamed: 0      atclNo    cortarNo        lat         lng atclNm  \\\n",
       "0           0  2233917636  1168010600  37.498822  127.055722   일반원룸   \n",
       "\n",
       "  atclStatCd rletTpNm rletTpCd tradTpNm  ... flrInfo   prc  rentPrc  spc1  \\\n",
       "0         R0       원룸      C01       월세  ...     2/3  2000       60    35   \n",
       "\n",
       "   spc2  direction                              atclFetrDesc  \\\n",
       "0    30         남향  보안좋고쾌적한 분리형풀옵션 학원가 좋은집 조용하고 가격대비최상급 강력추천   \n",
       "\n",
       "                     tagList  \\\n",
       "0  ['25년이상', '융자금없는', '역세권']   \n",
       "\n",
       "                                           repImgUrl repImgThumb  \n",
       "0  /20220930_140/land_naver_1664537403631mzV76_JP...     f130_98  \n",
       "\n",
       "[1 rows x 21 columns]"
      ]
     },
     "execution_count": 4,
     "metadata": {},
     "output_type": "execute_result"
    }
   ],
   "source": [
    "data.head(1)"
   ]
  },
  {
   "cell_type": "code",
   "execution_count": 5,
   "id": "4a371a77",
   "metadata": {},
   "outputs": [
    {
     "data": {
      "text/plain": [
       "array(['Unnamed: 0', 'atclNm', 'atclStatCd', 'rletTpCd', 'tradTpNm',\n",
       "       'atclFetrDesc', 'repImgThumb'], dtype=object)"
      ]
     },
     "execution_count": 5,
     "metadata": {},
     "output_type": "execute_result"
    }
   ],
   "source": [
    "idx = [0,5,6,8,9,17,20]\n",
    "remove_columns = data.columns[idx]\n",
    "remove_columns.values"
   ]
  },
  {
   "cell_type": "code",
   "execution_count": 6,
   "id": "56c5409e",
   "metadata": {
    "scrolled": true
   },
   "outputs": [
    {
     "data": {
      "text/html": [
       "<div>\n",
       "<style scoped>\n",
       "    .dataframe tbody tr th:only-of-type {\n",
       "        vertical-align: middle;\n",
       "    }\n",
       "\n",
       "    .dataframe tbody tr th {\n",
       "        vertical-align: top;\n",
       "    }\n",
       "\n",
       "    .dataframe thead th {\n",
       "        text-align: right;\n",
       "    }\n",
       "</style>\n",
       "<table border=\"1\" class=\"dataframe\">\n",
       "  <thead>\n",
       "    <tr style=\"text-align: right;\">\n",
       "      <th></th>\n",
       "      <th>Unnamed: 0</th>\n",
       "      <th>atclNm</th>\n",
       "      <th>atclStatCd</th>\n",
       "      <th>rletTpCd</th>\n",
       "      <th>tradTpNm</th>\n",
       "      <th>atclFetrDesc</th>\n",
       "      <th>repImgThumb</th>\n",
       "    </tr>\n",
       "  </thead>\n",
       "  <tbody>\n",
       "    <tr>\n",
       "      <th>0</th>\n",
       "      <td>0</td>\n",
       "      <td>일반원룸</td>\n",
       "      <td>R0</td>\n",
       "      <td>C01</td>\n",
       "      <td>월세</td>\n",
       "      <td>보안좋고쾌적한 분리형풀옵션 학원가 좋은집 조용하고 가격대비최상급 강력추천</td>\n",
       "      <td>f130_98</td>\n",
       "    </tr>\n",
       "    <tr>\n",
       "      <th>1</th>\n",
       "      <td>1</td>\n",
       "      <td>강남센트럴아이파크</td>\n",
       "      <td>R0</td>\n",
       "      <td>A01</td>\n",
       "      <td>전세</td>\n",
       "      <td>48 신축 첫 입주 초품아도성초 진선여중 고 풀옵션 전망최상임</td>\n",
       "      <td>f130_98</td>\n",
       "    </tr>\n",
       "    <tr>\n",
       "      <th>2</th>\n",
       "      <td>2</td>\n",
       "      <td>일반원룸</td>\n",
       "      <td>R0</td>\n",
       "      <td>C01</td>\n",
       "      <td>월세</td>\n",
       "      <td>보안좋고 쾌적한 풀옵션 학원가 좋은집 조용하고 가격대비최상급 강력추천해요</td>\n",
       "      <td>f130_98</td>\n",
       "    </tr>\n",
       "    <tr>\n",
       "      <th>3</th>\n",
       "      <td>3</td>\n",
       "      <td>일반원룸</td>\n",
       "      <td>R0</td>\n",
       "      <td>C01</td>\n",
       "      <td>월세</td>\n",
       "      <td>보안좋고 쾌적한 풀옵션 학원가좋은집 조용하고 가격대비최상급 강력추천해요</td>\n",
       "      <td>f130_98</td>\n",
       "    </tr>\n",
       "    <tr>\n",
       "      <th>4</th>\n",
       "      <td>4</td>\n",
       "      <td>삼성힐스테이트2단지</td>\n",
       "      <td>R0</td>\n",
       "      <td>A01</td>\n",
       "      <td>전세</td>\n",
       "      <td>입주협의가능 무융자 내부상태 최상</td>\n",
       "      <td>f130_98</td>\n",
       "    </tr>\n",
       "    <tr>\n",
       "      <th>...</th>\n",
       "      <td>...</td>\n",
       "      <td>...</td>\n",
       "      <td>...</td>\n",
       "      <td>...</td>\n",
       "      <td>...</td>\n",
       "      <td>...</td>\n",
       "      <td>...</td>\n",
       "    </tr>\n",
       "    <tr>\n",
       "      <th>13455</th>\n",
       "      <td>15</td>\n",
       "      <td>상록수</td>\n",
       "      <td>R0</td>\n",
       "      <td>A01</td>\n",
       "      <td>전세</td>\n",
       "      <td>입주일 하시조정 전망우수 깨끗한 상태</td>\n",
       "      <td>NaN</td>\n",
       "    </tr>\n",
       "    <tr>\n",
       "      <th>13456</th>\n",
       "      <td>16</td>\n",
       "      <td>우성3차</td>\n",
       "      <td>R0</td>\n",
       "      <td>A01</td>\n",
       "      <td>월세</td>\n",
       "      <td>34월 , 살기 쾌적한 최신 인테리어, 학교와 양재천이 가까워요</td>\n",
       "      <td>NaN</td>\n",
       "    </tr>\n",
       "    <tr>\n",
       "      <th>13457</th>\n",
       "      <td>17</td>\n",
       "      <td>한양5차</td>\n",
       "      <td>R0</td>\n",
       "      <td>A01</td>\n",
       "      <td>전세</td>\n",
       "      <td>32로얄동 특올수리 첫입주 주차편리</td>\n",
       "      <td>NaN</td>\n",
       "    </tr>\n",
       "    <tr>\n",
       "      <th>13458</th>\n",
       "      <td>18</td>\n",
       "      <td>청담에디션</td>\n",
       "      <td>R0</td>\n",
       "      <td>A02</td>\n",
       "      <td>월세</td>\n",
       "      <td>도산대로변 신축급 하이엔드 로열층, 파노라마뷰, 즉시입주 가능</td>\n",
       "      <td>NaN</td>\n",
       "    </tr>\n",
       "    <tr>\n",
       "      <th>13459</th>\n",
       "      <td>19</td>\n",
       "      <td>경남</td>\n",
       "      <td>R0</td>\n",
       "      <td>A01</td>\n",
       "      <td>전세</td>\n",
       "      <td>주인직접, 신축 수준의 특올수리, 양재천의 중심, 경남하세요</td>\n",
       "      <td>NaN</td>\n",
       "    </tr>\n",
       "  </tbody>\n",
       "</table>\n",
       "<p>13460 rows × 7 columns</p>\n",
       "</div>"
      ],
      "text/plain": [
       "       Unnamed: 0      atclNm atclStatCd rletTpCd tradTpNm  \\\n",
       "0               0        일반원룸         R0      C01       월세   \n",
       "1               1   강남센트럴아이파크         R0      A01       전세   \n",
       "2               2        일반원룸         R0      C01       월세   \n",
       "3               3        일반원룸         R0      C01       월세   \n",
       "4               4  삼성힐스테이트2단지         R0      A01       전세   \n",
       "...           ...         ...        ...      ...      ...   \n",
       "13455          15         상록수         R0      A01       전세   \n",
       "13456          16        우성3차         R0      A01       월세   \n",
       "13457          17        한양5차         R0      A01       전세   \n",
       "13458          18       청담에디션         R0      A02       월세   \n",
       "13459          19          경남         R0      A01       전세   \n",
       "\n",
       "                                   atclFetrDesc repImgThumb  \n",
       "0      보안좋고쾌적한 분리형풀옵션 학원가 좋은집 조용하고 가격대비최상급 강력추천     f130_98  \n",
       "1            48 신축 첫 입주 초품아도성초 진선여중 고 풀옵션 전망최상임     f130_98  \n",
       "2      보안좋고 쾌적한 풀옵션 학원가 좋은집 조용하고 가격대비최상급 강력추천해요     f130_98  \n",
       "3       보안좋고 쾌적한 풀옵션 학원가좋은집 조용하고 가격대비최상급 강력추천해요     f130_98  \n",
       "4                            입주협의가능 무융자 내부상태 최상     f130_98  \n",
       "...                                         ...         ...  \n",
       "13455                      입주일 하시조정 전망우수 깨끗한 상태         NaN  \n",
       "13456      34월 , 살기 쾌적한 최신 인테리어, 학교와 양재천이 가까워요          NaN  \n",
       "13457                      32로얄동 특올수리 첫입주 주차편리          NaN  \n",
       "13458       도산대로변 신축급 하이엔드 로열층, 파노라마뷰, 즉시입주 가능          NaN  \n",
       "13459         주인직접, 신축 수준의 특올수리, 양재천의 중심, 경남하세요         NaN  \n",
       "\n",
       "[13460 rows x 7 columns]"
      ]
     },
     "execution_count": 6,
     "metadata": {},
     "output_type": "execute_result"
    }
   ],
   "source": [
    "data.loc[:,remove_columns]\n",
    "\n",
    "# 'Unnamed'열 : 0~19를 계속 반복한다.\n",
    "# 'atclNm' : 건물이름으로 필요없는 정보\n",
    "# 'atclStatCd', 'rletTpCd', 'repImgThumb': 해석 불가\n",
    "# 'tradTpNm' : 계약형태로 그 다음 열인 'tradTpCd' 거래형태에 포함되는 정보\n",
    "# 'atclFetrDesc' : '보안좋고쾌적한 분리형풀옵션 학원가 좋은집 조용하고 가격대비최상급 강력추천'과 같이 의미없는 글"
   ]
  },
  {
   "cell_type": "code",
   "execution_count": 7,
   "id": "d5474af0",
   "metadata": {},
   "outputs": [
    {
     "data": {
      "text/plain": [
       "Index(['Unnamed: 0', 'atclNm', 'atclStatCd', 'rletTpCd', 'tradTpNm',\n",
       "       'atclFetrDesc', 'repImgThumb'],\n",
       "      dtype='object')"
      ]
     },
     "execution_count": 7,
     "metadata": {},
     "output_type": "execute_result"
    }
   ],
   "source": [
    "remove_columns"
   ]
  },
  {
   "cell_type": "code",
   "execution_count": 8,
   "id": "7bd66272",
   "metadata": {
    "scrolled": false
   },
   "outputs": [
    {
     "data": {
      "text/html": [
       "<div>\n",
       "<style scoped>\n",
       "    .dataframe tbody tr th:only-of-type {\n",
       "        vertical-align: middle;\n",
       "    }\n",
       "\n",
       "    .dataframe tbody tr th {\n",
       "        vertical-align: top;\n",
       "    }\n",
       "\n",
       "    .dataframe thead th {\n",
       "        text-align: right;\n",
       "    }\n",
       "</style>\n",
       "<table border=\"1\" class=\"dataframe\">\n",
       "  <thead>\n",
       "    <tr style=\"text-align: right;\">\n",
       "      <th></th>\n",
       "      <th>atclNo</th>\n",
       "      <th>cortarNo</th>\n",
       "      <th>lat</th>\n",
       "      <th>lng</th>\n",
       "      <th>rletTpNm</th>\n",
       "      <th>tradTpCd</th>\n",
       "      <th>flrInfo</th>\n",
       "      <th>prc</th>\n",
       "      <th>rentPrc</th>\n",
       "      <th>spc1</th>\n",
       "      <th>spc2</th>\n",
       "      <th>direction</th>\n",
       "      <th>tagList</th>\n",
       "      <th>repImgUrl</th>\n",
       "    </tr>\n",
       "  </thead>\n",
       "  <tbody>\n",
       "    <tr>\n",
       "      <th>0</th>\n",
       "      <td>2233917636</td>\n",
       "      <td>1168010600</td>\n",
       "      <td>37.498822</td>\n",
       "      <td>127.055722</td>\n",
       "      <td>원룸</td>\n",
       "      <td>B2</td>\n",
       "      <td>2/3</td>\n",
       "      <td>2000</td>\n",
       "      <td>60</td>\n",
       "      <td>35</td>\n",
       "      <td>30</td>\n",
       "      <td>남향</td>\n",
       "      <td>['25년이상', '융자금없는', '역세권']</td>\n",
       "      <td>/20220930_140/land_naver_1664537403631mzV76_JP...</td>\n",
       "    </tr>\n",
       "  </tbody>\n",
       "</table>\n",
       "</div>"
      ],
      "text/plain": [
       "       atclNo    cortarNo        lat         lng rletTpNm tradTpCd flrInfo  \\\n",
       "0  2233917636  1168010600  37.498822  127.055722       원룸       B2     2/3   \n",
       "\n",
       "    prc  rentPrc  spc1  spc2 direction                    tagList  \\\n",
       "0  2000       60    35    30        남향  ['25년이상', '융자금없는', '역세권']   \n",
       "\n",
       "                                           repImgUrl  \n",
       "0  /20220930_140/land_naver_1664537403631mzV76_JP...  "
      ]
     },
     "execution_count": 8,
     "metadata": {},
     "output_type": "execute_result"
    }
   ],
   "source": [
    "# data_trans : 전처리된 데이터 저장 공간\n",
    "\n",
    "data_trans = data.drop(remove_columns, axis=1)\n",
    "data_trans.head(1)"
   ]
  },
  {
   "cell_type": "code",
   "execution_count": 9,
   "id": "aca8b901",
   "metadata": {},
   "outputs": [],
   "source": [
    "data_trans.columns = ['id', 'dong', 'altitude', 'longtitude',\n",
    "                      'goodsType', 'payType', 'floor', 'deposit', 'monthlyPay',\n",
    "                      'contractArea', 'realArea', 'direction', 'tagList', 'repImgUrl']"
   ]
  },
  {
   "cell_type": "code",
   "execution_count": 10,
   "id": "766b4fc1",
   "metadata": {},
   "outputs": [
    {
     "data": {
      "text/html": [
       "<div>\n",
       "<style scoped>\n",
       "    .dataframe tbody tr th:only-of-type {\n",
       "        vertical-align: middle;\n",
       "    }\n",
       "\n",
       "    .dataframe tbody tr th {\n",
       "        vertical-align: top;\n",
       "    }\n",
       "\n",
       "    .dataframe thead th {\n",
       "        text-align: right;\n",
       "    }\n",
       "</style>\n",
       "<table border=\"1\" class=\"dataframe\">\n",
       "  <thead>\n",
       "    <tr style=\"text-align: right;\">\n",
       "      <th></th>\n",
       "      <th>id</th>\n",
       "      <th>dong</th>\n",
       "      <th>altitude</th>\n",
       "      <th>longtitude</th>\n",
       "      <th>goodsType</th>\n",
       "      <th>payType</th>\n",
       "      <th>floor</th>\n",
       "      <th>deposit</th>\n",
       "      <th>monthlyPay</th>\n",
       "      <th>contractArea</th>\n",
       "      <th>realArea</th>\n",
       "      <th>direction</th>\n",
       "      <th>tagList</th>\n",
       "      <th>repImgUrl</th>\n",
       "    </tr>\n",
       "  </thead>\n",
       "  <tbody>\n",
       "    <tr>\n",
       "      <th>0</th>\n",
       "      <td>2233917636</td>\n",
       "      <td>1168010600</td>\n",
       "      <td>37.498822</td>\n",
       "      <td>127.055722</td>\n",
       "      <td>원룸</td>\n",
       "      <td>B2</td>\n",
       "      <td>2/3</td>\n",
       "      <td>2000</td>\n",
       "      <td>60</td>\n",
       "      <td>35</td>\n",
       "      <td>30</td>\n",
       "      <td>남향</td>\n",
       "      <td>['25년이상', '융자금없는', '역세권']</td>\n",
       "      <td>/20220930_140/land_naver_1664537403631mzV76_JP...</td>\n",
       "    </tr>\n",
       "  </tbody>\n",
       "</table>\n",
       "</div>"
      ],
      "text/plain": [
       "           id        dong   altitude  longtitude goodsType payType floor  \\\n",
       "0  2233917636  1168010600  37.498822  127.055722        원룸      B2   2/3   \n",
       "\n",
       "   deposit  monthlyPay  contractArea  realArea direction  \\\n",
       "0     2000          60            35        30        남향   \n",
       "\n",
       "                     tagList  \\\n",
       "0  ['25년이상', '융자금없는', '역세권']   \n",
       "\n",
       "                                           repImgUrl  \n",
       "0  /20220930_140/land_naver_1664537403631mzV76_JP...  "
      ]
     },
     "execution_count": 10,
     "metadata": {},
     "output_type": "execute_result"
    }
   ],
   "source": [
    "data_trans.head(1)"
   ]
  },
  {
   "cell_type": "markdown",
   "id": "6b441934",
   "metadata": {},
   "source": [
    "# 2. 일부 열 전처리하기"
   ]
  },
  {
   "cell_type": "markdown",
   "id": "c9a159cd",
   "metadata": {},
   "source": [
    "## payType열"
   ]
  },
  {
   "cell_type": "code",
   "execution_count": 11,
   "id": "ad9f461a",
   "metadata": {},
   "outputs": [
    {
     "data": {
      "text/plain": [
       "array(['B2', 'B1', 'B3', 'A1'], dtype=object)"
      ]
     },
     "execution_count": 11,
     "metadata": {},
     "output_type": "execute_result"
    }
   ],
   "source": [
    "# 'payType' 형태\n",
    "\n",
    "data_trans.loc[:,'payType'].unique()"
   ]
  },
  {
   "cell_type": "code",
   "execution_count": 12,
   "id": "d823892c",
   "metadata": {
    "scrolled": true
   },
   "outputs": [
    {
     "data": {
      "text/plain": [
       "0        월세\n",
       "1        전세\n",
       "2        월세\n",
       "3        월세\n",
       "4        전세\n",
       "         ..\n",
       "13455    전세\n",
       "13456    월세\n",
       "13457    전세\n",
       "13458    월세\n",
       "13459    전세\n",
       "Name: payType, Length: 13460, dtype: object"
      ]
     },
     "execution_count": 12,
     "metadata": {},
     "output_type": "execute_result"
    }
   ],
   "source": [
    "# 영어로 분류된 것을 한국어로 바꾸기\n",
    "\n",
    "payTypeDict = {'A1':'매매', 'B1':'전세', 'B2':'월세', 'B3':'단기임대'}\n",
    "data_trans['payType'] = data_trans['payType'].apply(lambda x : payTypeDict[x])\n",
    "data_trans['payType']"
   ]
  },
  {
   "cell_type": "code",
   "execution_count": 13,
   "id": "81ac173e",
   "metadata": {},
   "outputs": [
    {
     "data": {
      "text/plain": [
       "array(['월세', '전세', '단기임대', '매매'], dtype=object)"
      ]
     },
     "execution_count": 13,
     "metadata": {},
     "output_type": "execute_result"
    }
   ],
   "source": [
    "data_trans.loc[:,'payType'].unique()"
   ]
  },
  {
   "cell_type": "markdown",
   "id": "6dc24a80",
   "metadata": {},
   "source": [
    "## floor열"
   ]
  },
  {
   "cell_type": "code",
   "execution_count": 14,
   "id": "5ca78692",
   "metadata": {
    "scrolled": false
   },
   "outputs": [
    {
     "data": {
      "text/plain": [
       "array(['2/3', '5/35', '6/6', '1/6', '21/22', '10/12', '3/8', '2/6', '4/4',\n",
       "       '1/3', '6/7', 'B1/6', '5/6', '12/13', '2/4', '3/6', '4/5', '2/5',\n",
       "       '6/11', '3/15', '10/13', 'B2/2', '5/10', '9/14', '3/5', '6/B1',\n",
       "       '9/11', 'B1/16', 'B1/3', '5/5', '9/9', '3/16', '3/4', '2/7',\n",
       "       '2/11', '4/6', '11/15', '8/19', 'B1/7', '11/16', '7/10', '12/20',\n",
       "       '3/10', 'B1/4', '21/35', '6/14', '4/15', '1/7', '1/5', '3/3',\n",
       "       '10/15', '13/15', '7/7', '14/15', '15/15', '8/12', '3/9', '6/13',\n",
       "       'B1/5', '10/19', '2/9', '13/13', '1/4', '7/11', '2/14', '1/2',\n",
       "       '18/35', '1/10', '6/8', '3/B1', '7/9', '1/15', '2/15', '7/8',\n",
       "       '6/10', '11/13', '16/17', '저/6', '10/11', '8/9', '고/6', 'B1/8',\n",
       "       '2/10', '3/7', '5/14', '5/8', '고/10', '8/11', '1/8', '4/9',\n",
       "       'B1/14', '4/7', '5/15', '4/B2', 'B2/4', '1/11', '1/23', '4/8',\n",
       "       'B2/11', '3/13', '3/18', '중/8', '고/5', '6/9', '12/19', '2/29',\n",
       "       '11/19', '14/23', '14/19', '19/21', '11/33', '2/13', '19/28',\n",
       "       '3/33', 'B1/2', '2/12', '고/4', '20/35', '8/8', '27/35', '5/25',\n",
       "       '33/59', '1/13', '23/33', '23/29', '17/19', '4/34', '고/14', '고/22',\n",
       "       '2/24', '5/12', '3/19', '18/19', '22/23', '1/14', '8/15', '9/22',\n",
       "       '7/20', '13/20', '3/22', '18/21', '12/22', '19/23', '19/19',\n",
       "       '22/28', '10/22', '8/22', '10/14', '7/15', '12/15', '3/14', '7/31',\n",
       "       '20/24', '5/22', '33/35', '6/15', '31/35', '10/16', '4/10', '1/12',\n",
       "       '34/35', '9/15', '8/35', '2/20', '9/10', '28/34', '13/16', '7/12',\n",
       "       '9/20', '8/10', '11/12', '12/16', '11/23', '5/9', '30/33', '12/35',\n",
       "       '4/33', '13/22', '3/12', '9/16', '12/18', '9/18', '2/30', '5/7',\n",
       "       '12/25', '14/21', '27/33', '6/23', '11/24', '12/23', '19/22',\n",
       "       '20/20', '15/24', '10/18', '14/35', '7/32', '17/34', '6/19',\n",
       "       '26/27', '2/16', '2/17', '16/22', '9/12', '8/14', '4/19', '9/19',\n",
       "       '7/16', '13/19', '16/20', '2/8', '26/29', '22/59', '4/29', '11/31',\n",
       "       '5/16', '23/24', '31/46', '14/25', '5/31', '13/23', '6/20', '3/21',\n",
       "       '34/42', '25/42', '22/55', '17/17', '7/24', '29/33', '5/21',\n",
       "       '13/14', '15/22', '14/17', '10/10', '32/42', '19/20', '7/26',\n",
       "       '18/22', '11/20', '7/22', '10/21', '19/35', '15/26', '4/12',\n",
       "       '16/33', '8/17', '17/22', '10/17', '11/17', '20/27', '2/22',\n",
       "       '6/29', '17/23', '13/24', '5/20', '4/28', '1/9', '17/21', '5/23',\n",
       "       '25/27', '5/30', '13/27', '58/69', '14/22', '26/51', '11/18',\n",
       "       '4/11', '16/19', '5/13', '중/35', '중/4', '저/4', '3/20', '10/23',\n",
       "       '1/22', '21/55', '20/21', '2/2', '9/28', '11/14', '고/1', '중/5',\n",
       "       '4/32', '1/1', '5/B1', '5/B2', '5/26', 'B1/15', '7/29', '중/6',\n",
       "       '15/33', '8/18', '중/2', '2/B2', '16/18', '15/17', '고/3', '중/16',\n",
       "       '저/12', '12/21', '12/33', '13/21', '4/B1', '9/24', '24/24',\n",
       "       '22/22', '33/33', '4/20', '18/20', '15/34', '14/14', '6/16',\n",
       "       '8/16', '28/59', '12/12', '9/17', '7/17', '3/17', '17/24', '4/18',\n",
       "       '7/21', '3/35', '21/29', '20/22', '10/25', '23/27', '3/11',\n",
       "       '15/27', '8/27', '15/19', '11/22', 'B2/6', '중/12', '11/11', 'B1/1',\n",
       "       '1/19', '21/21', '10/38', '23/32', '2/-', '17/27', '1/21', '중/3',\n",
       "       'B1/12', '2/B1', 'B1/9', '7/14', '16/35', '4/25', '7/13', '21/32',\n",
       "       '21/27', '6/17', '21/25', '15/16', '13/18', '2/19', '12/26',\n",
       "       '중/10', '8/13', '20/31', '6/B2', 'B1/10', '고/8', '8/20', '5/18',\n",
       "       '6/12', '27/31', '13/17', '14/18', '6/18', '24/25', '24/45',\n",
       "       '저/35', '저/2', '21/26', '29/45', '12/30', '31/33', 'B1/20',\n",
       "       '12/14', '6/32', 'B1/17', '12/17', '7/18', '15/31', '4/14',\n",
       "       '14/16', '1/18', '6/35', '2/B8', '17/18', '저/10', '저/29', '고/29',\n",
       "       '중/20', '저/3', '10/26', '1/17', '2/18', '1/B1', '17/20', '38/45',\n",
       "       '4/16', '18/34', '15/18', '7/19', '13/35', '-', '저/25', '고/28',\n",
       "       '중/25', '저/15', '9/13', '2/34', '5/-', '14/20', '17/25', '16/32',\n",
       "       '고/2', '9/27', '고/23', '중/22', '중/14', '중/7', '고/16', '고/15',\n",
       "       '저/32', '저/21', '중/33', '중/15', '중/29', '중/19', '고/13', '고/32',\n",
       "       '저/22', '고/12', '중/21', '고/34', '중/32', '저/23', '고/35', '고/46',\n",
       "       '저/19', '중/34', '저/26', '중/46', '중/30', '중/24', '고/9', '중/27',\n",
       "       '고/27', '중/18', '중/26', '저/24', '중/11', '고/21', '중/13', '고/25',\n",
       "       '고/24', '고/20', '저/55', '저/33', '중/23', '저/66', '고/19', '중/69',\n",
       "       '고/59', '저/8', '중/66', '저/16', '중/17', '저/17', '저/14', '중/42',\n",
       "       '고/33', '저/31', '고/31', '고/17', '저/9', '저/28', '저/13', '고/18',\n",
       "       '저/30', '고/11', '10/29', '4/22', '5/19', '12/28', '1/25', '18/27',\n",
       "       '고/69', '고/7', '중/28', '저/20', '저/18', '고/51', '중/51', '중/9',\n",
       "       '중/55', '중/31', '저/51', '저/59', '저/27', '저/34', '고/55', '4/27',\n",
       "       '15/25', '53/55', '24/51', '15/30', '42/59', '10/55', '9/30',\n",
       "       '22/46', '54/55', '26/55', '30/66', '23/55', '39/45', '9/25',\n",
       "       '저/11', '고/30', '10/20', '5/24', '17/26', '21/34', '4/13', '41/45',\n",
       "       '1/B6', '29/34', '3/23', '18/18', '14/27', '8/21', '2/21', '16/27',\n",
       "       '중/59', 'B2/5', '고/26', '저/46', '56/69', '21/24', 'B1/19', '6/21',\n",
       "       '9/35', '7/27', 'B2/7', 'B3/7', '5/11', '전체층/2', '11/B3', '11/35',\n",
       "       '4/21', '15/21', '21/46', '43/45', '2/27', '19/24', '26/35',\n",
       "       '15/23', '30/35', '11/27', '저/7', '저/69', '19/26', '19/31', '3/30',\n",
       "       '7/B1', '4/51', '10/35', '8/B8', 'B1/13', '1/26', 'B2/3', 'B1/18',\n",
       "       'B2/15', '15/20', '16/16', '27/28', '23/25', '9/26', '9/23',\n",
       "       '14/26', '4/17', '4/35', '4/26', '21/31', '1/24', '14/24', '7/35',\n",
       "       'B3/9', '3/28', '3/B2', '4/-', '3/-', '1/B5', '8/B6', '1/B3',\n",
       "       'B2/18', '1/20', '7/B2', '1/16', '16/B4', '10/B2', '6/B4',\n",
       "       '전체층/B1', '10/32', 'B1/22', '15/B3', '저/5', 'B2/8', 'B2/10',\n",
       "       '1/30', 'B1/51', '2/26', 'B2/17', '1/-', 'B1/11', '6/27', '4/B4',\n",
       "       'B1/26', '8/B2', '23/26', '17/35', '23/35', '9/32', '22/24', '저/1',\n",
       "       '14/29', 'B1/30', 'B2/26', '18/25', '10/B1', '6/-', '2/B5', '1/B2',\n",
       "       '7/B3', 'B2/9', '1/35', 'B2/22', '1/B4', 'B1/23', '6/24', '11/30',\n",
       "       '5/B3', '16/21', '28/35', '13/26', '중/38', '5/B7', '전체층/1',\n",
       "       '18/B6', '9/21', 'B2/19', '6/B3', '전체층/5', '2/B4', '18/23'],\n",
       "      dtype=object)"
      ]
     },
     "execution_count": 14,
     "metadata": {},
     "output_type": "execute_result"
    }
   ],
   "source": [
    "data_trans.loc[:,'floor'].unique()"
   ]
  },
  {
   "cell_type": "code",
   "execution_count": 15,
   "id": "2a9d9ece",
   "metadata": {},
   "outputs": [],
   "source": [
    "def floorConvert(x):\n",
    "    \n",
    "    import random\n",
    "    import numpy as nps\n",
    "    \n",
    "    word = x.split('/')\n",
    "    \n",
    "    if len(word) == 2 and '/' in x: # '현재층/전체층'의 형태이면,\n",
    "    \n",
    "        # 1. 'B1 -> -1'로 바꾸기\n",
    "        for i in range(len(word)): # '/'을 기준으로 2개로 나눈다.\n",
    "            if 'B' in word[i]:\n",
    "                word[i] = int(word[i][-1])*-1\n",
    "    \n",
    "        # 2. '고','중','저'를 숫자 데이터로 바꾸기\n",
    "        # 살펴보니까 '고', '중', '저로 표기된 데이터가 꽤 많았다.\n",
    "        # 따라서 제거를 하는 것 보다 다음과 같이 전처리를 해주었다.\n",
    "        # 고 = 전체층의 66~100% 중 random으로 정수층 선택\n",
    "        # 중 = 전체층의 33~66% 중 random으로 정수층 선택\n",
    "        # 저 = 전체층의 0~33% 중 random으로 0이 아닌 정수층 선택\n",
    "        for i in range(len(word)):\n",
    "            t = random.random() # 0<t<1\n",
    "            if word[i] == '고':\n",
    "                rate = (1-t)*2/3 + t*1 # 2/3<rate<1\n",
    "            elif word[i] == '중':\n",
    "                rate = (1-t)*1/3 + t*2/3 # 1/3<rate<2/3\n",
    "            elif word[i] == '저':\n",
    "                rate = (1-t)*0/3 + t*1/3 # 0/3<rate<1/3\n",
    "            else: continue\n",
    "            word[i] = int(float(word[1-i]) * rate)\n",
    "\n",
    "        # 3. 숫자가 아닌것이 있으면, 버리기(''으로 채운다.)\n",
    "        if not (str(word[0]).isdigit() and str(word[1]).isdigit()): # 둘 다 숫자가 아니면\n",
    "            word = ''\n",
    "            return word\n",
    "        \n",
    "        # 4. 3/1으로 전체층과 현재층이 반대로 되어 있으면, 바꿔준다.\n",
    "        if int(word[0]) > int(word[1]):\n",
    "            temp = word[1]\n",
    "            word[1] = word[0]\n",
    "            word[0] = temp\n",
    "            \n",
    "    else: # 층이 1개로만 분리되면('/'의 기호가 없을 때), 버리기(''으로 채운다.)\n",
    "        word = ''\n",
    "        return word\n",
    "\n",
    "    word = str(word[0]) + '/' + str(word[1])\n",
    "    \n",
    "    return word"
   ]
  },
  {
   "cell_type": "code",
   "execution_count": 16,
   "id": "5e7608c8",
   "metadata": {},
   "outputs": [
    {
     "data": {
      "text/plain": [
       "0          2/3\n",
       "1         5/35\n",
       "2          6/6\n",
       "3          1/6\n",
       "4        21/22\n",
       "         ...  \n",
       "13455      4/5\n",
       "13456    15/15\n",
       "13457    10/13\n",
       "13458     9/13\n",
       "13459     9/15\n",
       "Name: floor, Length: 13460, dtype: object"
      ]
     },
     "execution_count": 16,
     "metadata": {},
     "output_type": "execute_result"
    }
   ],
   "source": [
    "data_trans.loc[:,'floor'] = data_trans.loc[:,'floor'].apply(floorConvert)\n",
    "data_trans.loc[:,'floor']"
   ]
  },
  {
   "cell_type": "code",
   "execution_count": 18,
   "id": "6fdfcbcd",
   "metadata": {},
   "outputs": [
    {
     "data": {
      "text/plain": [
       "array([   17,    33,    41, ..., 13379, 13380, 13396])"
      ]
     },
     "execution_count": 18,
     "metadata": {},
     "output_type": "execute_result"
    }
   ],
   "source": [
    "np.where(data_trans.loc[:,'floor']=='')[0]"
   ]
  },
  {
   "cell_type": "code",
   "execution_count": 19,
   "id": "e2efba32",
   "metadata": {
    "scrolled": true
   },
   "outputs": [
    {
     "data": {
      "text/html": [
       "<div>\n",
       "<style scoped>\n",
       "    .dataframe tbody tr th:only-of-type {\n",
       "        vertical-align: middle;\n",
       "    }\n",
       "\n",
       "    .dataframe tbody tr th {\n",
       "        vertical-align: top;\n",
       "    }\n",
       "\n",
       "    .dataframe thead th {\n",
       "        text-align: right;\n",
       "    }\n",
       "</style>\n",
       "<table border=\"1\" class=\"dataframe\">\n",
       "  <thead>\n",
       "    <tr style=\"text-align: right;\">\n",
       "      <th></th>\n",
       "      <th>id</th>\n",
       "      <th>dong</th>\n",
       "      <th>altitude</th>\n",
       "      <th>longtitude</th>\n",
       "      <th>goodsType</th>\n",
       "      <th>payType</th>\n",
       "      <th>floor</th>\n",
       "      <th>deposit</th>\n",
       "      <th>monthlyPay</th>\n",
       "      <th>contractArea</th>\n",
       "      <th>realArea</th>\n",
       "      <th>direction</th>\n",
       "      <th>tagList</th>\n",
       "      <th>repImgUrl</th>\n",
       "    </tr>\n",
       "  </thead>\n",
       "  <tbody>\n",
       "    <tr>\n",
       "      <th>15</th>\n",
       "      <td>2233925018</td>\n",
       "      <td>1168010100</td>\n",
       "      <td>37.507508</td>\n",
       "      <td>127.036422</td>\n",
       "      <td>사무실</td>\n",
       "      <td>월세</td>\n",
       "      <td>2/6</td>\n",
       "      <td>15000</td>\n",
       "      <td>750</td>\n",
       "      <td>195</td>\n",
       "      <td>180</td>\n",
       "      <td>서향</td>\n",
       "      <td>['25년이내', '융자금없는', '역세권']</td>\n",
       "      <td>/20220930_276/land_naver_1664534887596k3zcc_JP...</td>\n",
       "    </tr>\n",
       "    <tr>\n",
       "      <th>16</th>\n",
       "      <td>2233925139</td>\n",
       "      <td>1168010100</td>\n",
       "      <td>37.495725</td>\n",
       "      <td>127.030165</td>\n",
       "      <td>사무실</td>\n",
       "      <td>월세</td>\n",
       "      <td>6/7</td>\n",
       "      <td>3000</td>\n",
       "      <td>340</td>\n",
       "      <td>118</td>\n",
       "      <td>118</td>\n",
       "      <td>동향</td>\n",
       "      <td>['25년이상', '융자금없는', '역세권']</td>\n",
       "      <td>/20220930_44/land_naver_1664531245791eEgKf_JPE...</td>\n",
       "    </tr>\n",
       "    <tr>\n",
       "      <th>18</th>\n",
       "      <td>2233925684</td>\n",
       "      <td>1168010800</td>\n",
       "      <td>37.521365</td>\n",
       "      <td>127.039101</td>\n",
       "      <td>사무실</td>\n",
       "      <td>월세</td>\n",
       "      <td>5/6</td>\n",
       "      <td>5000</td>\n",
       "      <td>500</td>\n",
       "      <td>163</td>\n",
       "      <td>138</td>\n",
       "      <td>동향</td>\n",
       "      <td>['25년이상', '융자금없는', '주차가능']</td>\n",
       "      <td>/20220930_300/land_naver_1664530758103vdn4g_JP...</td>\n",
       "    </tr>\n",
       "    <tr>\n",
       "      <th>19</th>\n",
       "      <td>2233925180</td>\n",
       "      <td>1168010100</td>\n",
       "      <td>37.503085</td>\n",
       "      <td>127.049396</td>\n",
       "      <td>사무실</td>\n",
       "      <td>월세</td>\n",
       "      <td>12/13</td>\n",
       "      <td>10000</td>\n",
       "      <td>488</td>\n",
       "      <td>159</td>\n",
       "      <td>132</td>\n",
       "      <td>동향</td>\n",
       "      <td>['10년이내', '융자금없는', '역세권']</td>\n",
       "      <td>/20220930_229/land_naver_1664534885490tULtv_JP...</td>\n",
       "    </tr>\n",
       "    <tr>\n",
       "      <th>20</th>\n",
       "      <td>2233922764</td>\n",
       "      <td>1168010500</td>\n",
       "      <td>37.510752</td>\n",
       "      <td>127.055533</td>\n",
       "      <td>사무실</td>\n",
       "      <td>월세</td>\n",
       "      <td>6/6</td>\n",
       "      <td>5000</td>\n",
       "      <td>380</td>\n",
       "      <td>134</td>\n",
       "      <td>134</td>\n",
       "      <td>북향</td>\n",
       "      <td>['25년이내', '융자금없는', '역세권']</td>\n",
       "      <td>/20220930_162/land_naver_16645342263066Ookg_JP...</td>\n",
       "    </tr>\n",
       "  </tbody>\n",
       "</table>\n",
       "</div>"
      ],
      "text/plain": [
       "            id        dong   altitude  longtitude goodsType payType  floor  \\\n",
       "15  2233925018  1168010100  37.507508  127.036422       사무실      월세    2/6   \n",
       "16  2233925139  1168010100  37.495725  127.030165       사무실      월세    6/7   \n",
       "18  2233925684  1168010800  37.521365  127.039101       사무실      월세    5/6   \n",
       "19  2233925180  1168010100  37.503085  127.049396       사무실      월세  12/13   \n",
       "20  2233922764  1168010500  37.510752  127.055533       사무실      월세    6/6   \n",
       "\n",
       "    deposit  monthlyPay  contractArea  realArea direction  \\\n",
       "15    15000         750           195       180        서향   \n",
       "16     3000         340           118       118        동향   \n",
       "18     5000         500           163       138        동향   \n",
       "19    10000         488           159       132        동향   \n",
       "20     5000         380           134       134        북향   \n",
       "\n",
       "                       tagList  \\\n",
       "15   ['25년이내', '융자금없는', '역세권']   \n",
       "16   ['25년이상', '융자금없는', '역세권']   \n",
       "18  ['25년이상', '융자금없는', '주차가능']   \n",
       "19   ['10년이내', '융자금없는', '역세권']   \n",
       "20   ['25년이내', '융자금없는', '역세권']   \n",
       "\n",
       "                                            repImgUrl  \n",
       "15  /20220930_276/land_naver_1664534887596k3zcc_JP...  \n",
       "16  /20220930_44/land_naver_1664531245791eEgKf_JPE...  \n",
       "18  /20220930_300/land_naver_1664530758103vdn4g_JP...  \n",
       "19  /20220930_229/land_naver_1664534885490tULtv_JP...  \n",
       "20  /20220930_162/land_naver_16645342263066Ookg_JP...  "
      ]
     },
     "execution_count": 19,
     "metadata": {},
     "output_type": "execute_result"
    }
   ],
   "source": [
    "data_trans = data_trans.drop(np.where(data_trans.loc[:,'floor']=='')[0])\n",
    "data_trans.loc[15:20,:]"
   ]
  },
  {
   "cell_type": "markdown",
   "id": "41e502df",
   "metadata": {},
   "source": [
    "## dong"
   ]
  },
  {
   "cell_type": "code",
   "execution_count": 20,
   "id": "54f51b97",
   "metadata": {},
   "outputs": [
    {
     "data": {
      "text/plain": [
       "0        1168010600\n",
       "1        1168010100\n",
       "2        1168010600\n",
       "3        1168010600\n",
       "4        1168010500\n",
       "            ...    \n",
       "13455    1168011400\n",
       "13456    1168010300\n",
       "13457    1168011000\n",
       "13458    1168010400\n",
       "13459    1168010300\n",
       "Name: dong, Length: 11714, dtype: int64"
      ]
     },
     "execution_count": 20,
     "metadata": {},
     "output_type": "execute_result"
    }
   ],
   "source": [
    "data_trans.loc[:,'dong']"
   ]
  },
  {
   "cell_type": "code",
   "execution_count": 21,
   "id": "df9da662",
   "metadata": {},
   "outputs": [
    {
     "data": {
      "text/html": [
       "<div>\n",
       "<style scoped>\n",
       "    .dataframe tbody tr th:only-of-type {\n",
       "        vertical-align: middle;\n",
       "    }\n",
       "\n",
       "    .dataframe tbody tr th {\n",
       "        vertical-align: top;\n",
       "    }\n",
       "\n",
       "    .dataframe thead th {\n",
       "        text-align: right;\n",
       "    }\n",
       "</style>\n",
       "<table border=\"1\" class=\"dataframe\">\n",
       "  <thead>\n",
       "    <tr style=\"text-align: right;\">\n",
       "      <th></th>\n",
       "      <th>법정동코드</th>\n",
       "      <th>시도명</th>\n",
       "      <th>시군구명</th>\n",
       "      <th>읍면동명</th>\n",
       "      <th>리명</th>\n",
       "      <th>순위</th>\n",
       "      <th>생성일자</th>\n",
       "      <th>삭제일자</th>\n",
       "      <th>과거법정동코드</th>\n",
       "    </tr>\n",
       "  </thead>\n",
       "  <tbody>\n",
       "    <tr>\n",
       "      <th>0</th>\n",
       "      <td>4223033031</td>\n",
       "      <td>강원도</td>\n",
       "      <td>삼척시</td>\n",
       "      <td>노곡면</td>\n",
       "      <td>상군천리</td>\n",
       "      <td>11.0</td>\n",
       "      <td>1995-01-01</td>\n",
       "      <td>NaN</td>\n",
       "      <td>NaN</td>\n",
       "    </tr>\n",
       "  </tbody>\n",
       "</table>\n",
       "</div>"
      ],
      "text/plain": [
       "        법정동코드  시도명 시군구명 읍면동명    리명    순위        생성일자 삭제일자  과거법정동코드\n",
       "0  4223033031  강원도  삼척시  노곡면  상군천리  11.0  1995-01-01  NaN      NaN"
      ]
     },
     "execution_count": 21,
     "metadata": {},
     "output_type": "execute_result"
    }
   ],
   "source": [
    "# dong_info = pd.read_csv('.csv', encoding='cp949')\n",
    "# dong_info.head(1)"
   ]
  },
  {
   "cell_type": "code",
   "execution_count": 22,
   "id": "537a07f8",
   "metadata": {},
   "outputs": [],
   "source": [
    "# 나중에 '시군구명' 혹은 '읍면동명'이 같은 걸로만 group화 해서 비교할 때, 생각해봐야한다.\n",
    "# 일단 강남 이외의 데이터도 합쳐서 비교"
   ]
  },
  {
   "cell_type": "markdown",
   "id": "84ec9748",
   "metadata": {},
   "source": [
    "# 3. 전처리 데이터 저장하기"
   ]
  },
  {
   "cell_type": "code",
   "execution_count": 23,
   "id": "7fe0faa9",
   "metadata": {},
   "outputs": [],
   "source": [
    "data_trans.to_csv('...csv')"
   ]
  }
 ],
 "metadata": {
  "kernelspec": {
   "display_name": "Python 3 (ipykernel)",
   "language": "python",
   "name": "python3"
  },
  "language_info": {
   "codemirror_mode": {
    "name": "ipython",
    "version": 3
   },
   "file_extension": ".py",
   "mimetype": "text/x-python",
   "name": "python",
   "nbconvert_exporter": "python",
   "pygments_lexer": "ipython3",
   "version": "3.9.7"
  }
 },
 "nbformat": 4,
 "nbformat_minor": 5
}
